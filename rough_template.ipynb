{
 "cells": [
  {
   "cell_type": "code",
   "execution_count": 2,
   "metadata": {},
   "outputs": [],
   "source": [
    "import pandas as pd\n",
    "import numpy as np\n",
    "import matplotlib.pyplot as plt\n",
    "import seaborn as sns"
   ]
  },
  {
   "cell_type": "code",
   "execution_count": 6,
   "metadata": {},
   "outputs": [],
   "source": [
    "years = range(1987,2009)"
   ]
  },
  {
   "cell_type": "code",
   "execution_count": 9,
   "metadata": {},
   "outputs": [
    {
     "name": "stdout",
     "output_type": "stream",
     "text": [
      "http://stat-computing.org/dataexpo/2009/1987.csv.bz2\n",
      "http://stat-computing.org/dataexpo/2009/1988.csv.bz2\n",
      "http://stat-computing.org/dataexpo/2009/1989.csv.bz2\n",
      "http://stat-computing.org/dataexpo/2009/1990.csv.bz2\n",
      "http://stat-computing.org/dataexpo/2009/1991.csv.bz2\n",
      "http://stat-computing.org/dataexpo/2009/1992.csv.bz2\n",
      "http://stat-computing.org/dataexpo/2009/1993.csv.bz2\n",
      "http://stat-computing.org/dataexpo/2009/1994.csv.bz2\n",
      "http://stat-computing.org/dataexpo/2009/1995.csv.bz2\n",
      "http://stat-computing.org/dataexpo/2009/1996.csv.bz2\n",
      "http://stat-computing.org/dataexpo/2009/1997.csv.bz2\n",
      "http://stat-computing.org/dataexpo/2009/1998.csv.bz2\n",
      "http://stat-computing.org/dataexpo/2009/1999.csv.bz2\n",
      "http://stat-computing.org/dataexpo/2009/2000.csv.bz2\n",
      "http://stat-computing.org/dataexpo/2009/2001.csv.bz2\n",
      "http://stat-computing.org/dataexpo/2009/2002.csv.bz2\n",
      "http://stat-computing.org/dataexpo/2009/2003.csv.bz2\n",
      "http://stat-computing.org/dataexpo/2009/2004.csv.bz2\n",
      "http://stat-computing.org/dataexpo/2009/2005.csv.bz2\n",
      "http://stat-computing.org/dataexpo/2009/2006.csv.bz2\n",
      "http://stat-computing.org/dataexpo/2009/2007.csv.bz2\n",
      "http://stat-computing.org/dataexpo/2009/2008.csv.bz2\n"
     ]
    }
   ],
   "source": [
    "for yr in years:\n",
    "    data_url = \"http://stat-computing.org/dataexpo/2009/{}.csv.bz2\".format(str(yr))\n",
    "    data = pd.read_csv(data_url, compression='bz2', header=0, sep=',', quotechar='\"')\n",
    "    "
   ]
  },
  {
   "cell_type": "code",
   "execution_count": 5,
   "metadata": {},
   "outputs": [
    {
     "name": "stdout",
     "output_type": "stream",
     "text": [
      "<class 'pandas.core.frame.DataFrame'>\n",
      "RangeIndex: 1311826 entries, 0 to 1311825\n",
      "Data columns (total 29 columns):\n",
      "Year                 1311826 non-null int64\n",
      "Month                1311826 non-null int64\n",
      "DayofMonth           1311826 non-null int64\n",
      "DayOfWeek            1311826 non-null int64\n",
      "DepTime              1292141 non-null float64\n",
      "CRSDepTime           1311826 non-null int64\n",
      "ArrTime              1288326 non-null float64\n",
      "CRSArrTime           1311826 non-null int64\n",
      "UniqueCarrier        1311826 non-null object\n",
      "FlightNum            1311826 non-null int64\n",
      "TailNum              0 non-null float64\n",
      "ActualElapsedTime    1288326 non-null float64\n",
      "CRSElapsedTime       1311826 non-null int64\n",
      "AirTime              0 non-null float64\n",
      "ArrDelay             1288326 non-null float64\n",
      "DepDelay             1292141 non-null float64\n",
      "Origin               1311826 non-null object\n",
      "Dest                 1311826 non-null object\n",
      "Distance             1310811 non-null float64\n",
      "TaxiIn               0 non-null float64\n",
      "TaxiOut              0 non-null float64\n",
      "Cancelled            1311826 non-null int64\n",
      "CancellationCode     0 non-null float64\n",
      "Diverted             1311826 non-null int64\n",
      "CarrierDelay         0 non-null float64\n",
      "WeatherDelay         0 non-null float64\n",
      "NASDelay             0 non-null float64\n",
      "SecurityDelay        0 non-null float64\n",
      "LateAircraftDelay    0 non-null float64\n",
      "dtypes: float64(16), int64(10), object(3)\n",
      "memory usage: 290.2+ MB\n"
     ]
    }
   ],
   "source": [
    "data.info()"
   ]
  },
  {
   "cell_type": "code",
   "execution_count": 10,
   "metadata": {},
   "outputs": [
    {
     "data": {
      "text/plain": [
       "'http://stat-computing.org/dataexpo/2009/2008.csv.bz2'"
      ]
     },
     "execution_count": 10,
     "metadata": {},
     "output_type": "execute_result"
    }
   ],
   "source": [
    "data_url"
   ]
  },
  {
   "cell_type": "code",
   "execution_count": 11,
   "metadata": {},
   "outputs": [],
   "source": [
    "data = pd.read_csv(data_url, compression='bz2', header=0, sep=',', quotechar='\"')\n",
    "from datetime import datetime\n",
    "data[\"DateTime\"] = pd.Series([str(k[\"Year\"]) + \"-\" + str(k[\"Month\"]) + \"-\" + str(k[\"DayofMonth\"]) for ind,k in data.iterrows()],index = data.index)"
   ]
  },
  {
   "cell_type": "code",
   "execution_count": 13,
   "metadata": {},
   "outputs": [],
   "source": [
    "data[\"DateTime\"] = pd.to_datetime(data[\"DateTime\"])"
   ]
  },
  {
   "cell_type": "code",
   "execution_count": 14,
   "metadata": {},
   "outputs": [],
   "source": [
    "data = data.drop([\"Year\",\"Month\",\"DayofMonth\"],axis=1)"
   ]
  },
  {
   "cell_type": "code",
   "execution_count": 16,
   "metadata": {},
   "outputs": [],
   "source": [
    "data = data.drop([\"DayOfWeek\"],axis=1)"
   ]
  },
  {
   "cell_type": "code",
   "execution_count": 19,
   "metadata": {},
   "outputs": [
    {
     "data": {
      "text/plain": [
       "600"
      ]
     },
     "execution_count": 19,
     "metadata": {},
     "output_type": "execute_result"
    }
   ],
   "source": [
    "len(data.WeatherDelay.unique())"
   ]
  },
  {
   "cell_type": "code",
   "execution_count": null,
   "metadata": {},
   "outputs": [],
   "source": []
  }
 ],
 "metadata": {
  "kernelspec": {
   "display_name": "Python 3",
   "language": "python",
   "name": "python3"
  },
  "language_info": {
   "codemirror_mode": {
    "name": "ipython",
    "version": 3
   },
   "file_extension": ".py",
   "mimetype": "text/x-python",
   "name": "python",
   "nbconvert_exporter": "python",
   "pygments_lexer": "ipython3",
   "version": "3.7.2"
  }
 },
 "nbformat": 4,
 "nbformat_minor": 2
}
